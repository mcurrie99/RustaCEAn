{
 "cells": [
  {
   "cell_type": "code",
   "execution_count": 16,
   "metadata": {},
   "outputs": [
    {
     "name": "stdout",
     "output_type": "stream",
     "text": [
      "(b'\\x00',)\n"
     ]
    }
   ],
   "source": [
    "import struct\n",
    "\n",
    "# Open the binary file\n",
    "with open('thermo.lib', 'rb') as file:\n",
    "    # Read in binary mode\n",
    "    data = file.read()\n",
    "    # Unpack binary data (format will depend on the file structure)\n",
    "    # Example: assuming each data block is a double (8 bytes)\n",
    "    for i in range(len(data)):\n",
    "        record = struct.unpack('s', data[i:i+1])\n",
    "        # print(record)\n",
    "    print(record)"
   ]
  }
 ],
 "metadata": {
  "kernelspec": {
   "display_name": "base",
   "language": "python",
   "name": "python3"
  },
  "language_info": {
   "codemirror_mode": {
    "name": "ipython",
    "version": 3
   },
   "file_extension": ".py",
   "mimetype": "text/x-python",
   "name": "python",
   "nbconvert_exporter": "python",
   "pygments_lexer": "ipython3",
   "version": "3.12.4"
  }
 },
 "nbformat": 4,
 "nbformat_minor": 2
}
